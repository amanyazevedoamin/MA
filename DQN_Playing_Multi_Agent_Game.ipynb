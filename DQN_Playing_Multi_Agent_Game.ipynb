{
  "nbformat": 4,
  "nbformat_minor": 0,
  "metadata": {
    "accelerator": "GPU",
    "colab": {
      "name": "DQN Playing Multi Agent Game",
      "provenance": [],
      "collapsed_sections": [],
      "toc_visible": true
    },
    "kernelspec": {
      "display_name": "Python 3",
      "language": "python",
      "name": "python3"
    },
    "language_info": {
      "codemirror_mode": {
        "name": "ipython",
        "version": 3
      },
      "file_extension": ".py",
      "mimetype": "text/x-python",
      "name": "python",
      "nbconvert_exporter": "python",
      "pygments_lexer": "ipython3",
      "version": "3.7.4"
    }
  },
  "cells": [
    {
      "cell_type": "markdown",
      "metadata": {
        "id": "7quwWZTJlwfV"
      },
      "source": [
        "## Implementation of Deep Q-learning Neural-network (DQN) in a multi-agent setting\n",
        "\n",
        "A component of the coursework submitted for module \"Multi-Agent AI\".\n",
        "\n",
        "A DQN is implemented to solve the Switch2 and Switch4 games, the environments for which are provided here: https://github.com/koulanurag/ma-gym/wiki/Environments#Switch\n"
      ]
    },
    {
      "cell_type": "markdown",
      "metadata": {
        "id": "eAePzQjrcriF"
      },
      "source": [
        "### Environment Example\n",
        "#### Switch2-v0\n",
        "![Switch-2](https://raw.githubusercontent.com/koulanurag/ma-gym/master/static/gif/Switch2-v0.gif)\n",
        "#### Switch4-v0\n",
        "![Switch-4](https://raw.githubusercontent.com/koulanurag/ma-gym/master/static/gif/Switch4-v0.gif)\n",
        "\n",
        "The switch environment is described as follows:\n",
        "\n",
        "`Switch-n` is a grid world environment having `n agents` where each agent wants to move their corresponding home location (marked in boxes outlined in same colors).\n",
        "Each agent receives only it's local position coordinates. The challenging part of the game is to pass through the narrow corridor through which only one agent can pass at a time. They need to coordinate to not block the pathway for the other. A reward of +5 is given to each agent for reaching their home cell. The episode ends when both agents has reached their home state or for a maximum of 100 steps in environment.\n",
        "\n",
        "Action Space: `0: Down, 1: Left, 2: Up , 3: Right, 4: Noop`\n",
        "\n",
        "Agent Observation : `Agent Coordinate + Steps in env.`\n",
        "\n",
        "Best Score: `NA`"
      ]
    },
    {
      "cell_type": "markdown",
      "metadata": {
        "id": "2bRNAhv1QMC1"
      },
      "source": [
        "### Download Requirements and Set the Environment\n",
        "The following command will download the required scripts and set up the environment. "
      ]
    },
    {
      "cell_type": "code",
      "metadata": {
        "id": "N0MTkFoNkLi2",
        "colab": {
          "base_uri": "https://localhost:8080/"
        },
        "outputId": "e255d3fc-58c9-4cfd-c362-8f28024e5ff5"
      },
      "source": [
        "!rm -rf /content/ma-gym  \n",
        "!git clone https://github.com/koulanurag/ma-gym.git \n",
        "%cd /content/ma-gym \n",
        "\n",
        "!pip install -q -e . \n",
        "\n",
        "!apt-get install -y xvfb python-opengl x11-utils > /dev/null 2>&1\n",
        "!pip install pyvirtualdisplay > /dev/null 2>&1\n",
        "!apt-get install x11-utils\n",
        "!apt-get update > /dev/null 2>&1\n",
        "!apt-get install cmake > /dev/null 2>&1\n",
        "!pip install --upgrade setuptools 2>&1\n",
        "!pip install ez_setup > /dev/null 2>&1\n",
        "!pip install -U gym[atari] > /dev/null 2>&1"
      ],
      "execution_count": 1,
      "outputs": [
        {
          "output_type": "stream",
          "text": [
            "Cloning into 'ma-gym'...\n",
            "remote: Enumerating objects: 24, done.\u001b[K\n",
            "remote: Counting objects:   4% (1/24)\u001b[K\rremote: Counting objects:   8% (2/24)\u001b[K\rremote: Counting objects:  12% (3/24)\u001b[K\rremote: Counting objects:  16% (4/24)\u001b[K\rremote: Counting objects:  20% (5/24)\u001b[K\rremote: Counting objects:  25% (6/24)\u001b[K\rremote: Counting objects:  29% (7/24)\u001b[K\rremote: Counting objects:  33% (8/24)\u001b[K\rremote: Counting objects:  37% (9/24)\u001b[K\rremote: Counting objects:  41% (10/24)\u001b[K\rremote: Counting objects:  45% (11/24)\u001b[K\rremote: Counting objects:  50% (12/24)\u001b[K\rremote: Counting objects:  54% (13/24)\u001b[K\rremote: Counting objects:  58% (14/24)\u001b[K\rremote: Counting objects:  62% (15/24)\u001b[K\rremote: Counting objects:  66% (16/24)\u001b[K\rremote: Counting objects:  70% (17/24)\u001b[K\rremote: Counting objects:  75% (18/24)\u001b[K\rremote: Counting objects:  79% (19/24)\u001b[K\rremote: Counting objects:  83% (20/24)\u001b[K\rremote: Counting objects:  87% (21/24)\u001b[K\rremote: Counting objects:  91% (22/24)\u001b[K\rremote: Counting objects:  95% (23/24)\u001b[K\rremote: Counting objects: 100% (24/24)\u001b[K\rremote: Counting objects: 100% (24/24), done.\u001b[K\n",
            "remote: Compressing objects:   5% (1/19)\u001b[K\rremote: Compressing objects:  10% (2/19)\u001b[K\rremote: Compressing objects:  15% (3/19)\u001b[K\rremote: Compressing objects:  21% (4/19)\u001b[K\rremote: Compressing objects:  26% (5/19)\u001b[K\rremote: Compressing objects:  31% (6/19)\u001b[K\rremote: Compressing objects:  36% (7/19)\u001b[K\rremote: Compressing objects:  42% (8/19)\u001b[K\rremote: Compressing objects:  47% (9/19)\u001b[K\rremote: Compressing objects:  52% (10/19)\u001b[K\rremote: Compressing objects:  57% (11/19)\u001b[K\rremote: Compressing objects:  63% (12/19)\u001b[K\rremote: Compressing objects:  68% (13/19)\u001b[K\rremote: Compressing objects:  73% (14/19)\u001b[K\rremote: Compressing objects:  78% (15/19)\u001b[K\rremote: Compressing objects:  84% (16/19)\u001b[K\rremote: Compressing objects:  89% (17/19)\u001b[K\rremote: Compressing objects:  94% (18/19)\u001b[K\rremote: Compressing objects: 100% (19/19)\u001b[K\rremote: Compressing objects: 100% (19/19), done.\u001b[K\n",
            "Receiving objects:   0% (1/955)   \rReceiving objects:   1% (10/955)   \rReceiving objects:   2% (20/955)   \rReceiving objects:   3% (29/955)   \rReceiving objects:   4% (39/955)   \rReceiving objects:   5% (48/955)   \rReceiving objects:   6% (58/955)   \rReceiving objects:   7% (67/955)   \rReceiving objects:   8% (77/955)   \rReceiving objects:   9% (86/955)   \rReceiving objects:  10% (96/955)   \rReceiving objects:  11% (106/955)   \rReceiving objects:  12% (115/955)   \rReceiving objects:  13% (125/955)   \rReceiving objects:  14% (134/955)   \rReceiving objects:  15% (144/955)   \rReceiving objects:  16% (153/955)   \rReceiving objects:  17% (163/955)   \rReceiving objects:  18% (172/955)   \rReceiving objects:  19% (182/955)   \rReceiving objects:  20% (191/955)   \rReceiving objects:  21% (201/955)   \rReceiving objects:  22% (211/955)   \rReceiving objects:  23% (220/955)   \rReceiving objects:  24% (230/955)   \rReceiving objects:  25% (239/955)   \rReceiving objects:  26% (249/955)   \rReceiving objects:  27% (258/955)   \rReceiving objects:  28% (268/955)   \rReceiving objects:  29% (277/955)   \rReceiving objects:  30% (287/955)   \rReceiving objects:  31% (297/955)   \rReceiving objects:  32% (306/955)   \rReceiving objects:  33% (316/955)   \rReceiving objects:  34% (325/955)   \rReceiving objects:  35% (335/955)   \rReceiving objects:  36% (344/955)   \rReceiving objects:  37% (354/955)   \rReceiving objects:  38% (363/955)   \rReceiving objects:  39% (373/955)   \rReceiving objects:  40% (382/955)   \rReceiving objects:  41% (392/955)   \rReceiving objects:  42% (402/955)   \rReceiving objects:  43% (411/955)   \rReceiving objects:  44% (421/955)   \rReceiving objects:  45% (430/955)   \rReceiving objects:  46% (440/955)   \rReceiving objects:  47% (449/955)   \rReceiving objects:  48% (459/955)   \rReceiving objects:  49% (468/955)   \rReceiving objects:  50% (478/955)   \rReceiving objects:  51% (488/955)   \rReceiving objects:  52% (497/955)   \rReceiving objects:  53% (507/955)   \rReceiving objects:  54% (516/955)   \rReceiving objects:  55% (526/955)   \rReceiving objects:  56% (535/955)   \rReceiving objects:  57% (545/955)   \rReceiving objects:  58% (554/955)   \rReceiving objects:  59% (564/955)   \rReceiving objects:  60% (573/955)   \rReceiving objects:  61% (583/955)   \rReceiving objects:  62% (593/955)   \rReceiving objects:  63% (602/955)   \rReceiving objects:  64% (612/955)   \rReceiving objects:  65% (621/955)   \rReceiving objects:  66% (631/955)   \rReceiving objects:  67% (640/955)   \rReceiving objects:  68% (650/955)   \rReceiving objects:  69% (659/955)   \rReceiving objects:  70% (669/955)   \rReceiving objects:  71% (679/955)   \rReceiving objects:  72% (688/955)   \rReceiving objects:  73% (698/955)   \rReceiving objects:  74% (707/955)   \rReceiving objects:  75% (717/955)   \rReceiving objects:  76% (726/955)   \rReceiving objects:  77% (736/955)   \rReceiving objects:  78% (745/955)   \rReceiving objects:  79% (755/955)   \rReceiving objects:  80% (764/955)   \rReceiving objects:  81% (774/955)   \rReceiving objects:  82% (784/955)   \rReceiving objects:  83% (793/955)   \rReceiving objects:  84% (803/955)   \rReceiving objects:  85% (812/955)   \rReceiving objects:  86% (822/955)   \rReceiving objects:  87% (831/955)   \rReceiving objects:  88% (841/955)   \rReceiving objects:  89% (850/955)   \rReceiving objects:  90% (860/955)   \rReceiving objects:  91% (870/955)   \rReceiving objects:  92% (879/955)   \rReceiving objects:  93% (889/955)   \rReceiving objects:  94% (898/955)   \rReceiving objects:  95% (908/955)   \rReceiving objects:  96% (917/955)   \rReceiving objects:  97% (927/955)   \rReceiving objects:  98% (936/955)   \rReceiving objects:  99% (946/955)   \rremote: Total 955 (delta 4), reused 17 (delta 3), pack-reused 931\u001b[K\n",
            "Receiving objects: 100% (955/955), 3.71 MiB | 28.58 MiB/s, done.\n",
            "Resolving deltas: 100% (467/467), done.\n",
            "/content/ma-gym\n",
            "ERROR: unknown command \"update\"\n",
            "Reading package lists... Done\n",
            "Building dependency tree       \n",
            "Reading state information... Done\n",
            "x11-utils is already the newest version (7.7+3build1).\n",
            "0 upgraded, 0 newly installed, 0 to remove and 67 not upgraded.\n",
            "Requirement already up-to-date: setuptools in /usr/local/lib/python3.6/dist-packages (50.3.2)\n"
          ],
          "name": "stdout"
        }
      ]
    },
    {
      "cell_type": "code",
      "metadata": {
        "id": "3sYf6AK2d6kK"
      },
      "source": [
        "%matplotlib inline\n",
        "import gym\n",
        "import ma_gym\n",
        "from ma_gym.wrappers import Monitor\n",
        "import matplotlib.pyplot as plt\n",
        "import glob\n",
        "import io\n",
        "import base64\n",
        "from IPython.display import HTML\n",
        "from IPython import display as ipythondisplay\n",
        "\n",
        "from pyvirtualdisplay import Display\n",
        "display = Display(visible=0, size=(1400, 900))\n",
        "display.start()\n",
        "\n",
        "\"\"\"\n",
        "Utility functions to enable video recording of gym environment and displaying it\n",
        "To enable video, just do \"env = wrap_env(env)\"\"\n",
        "\"\"\"\n",
        "\n",
        "def show_video():\n",
        "  mp4list = glob.glob('video/*.mp4')\n",
        "  if len(mp4list) > 0:\n",
        "    mp4 = mp4list[0]\n",
        "    video = io.open(mp4, 'r+b').read()\n",
        "    encoded = base64.b64encode(video)\n",
        "    ipythondisplay.display(HTML(data='''<video alt=\"test\" autoplay \n",
        "                loop controls style=\"height: 400px;\">\n",
        "                <source src=\"data:video/mp4;base64,{0}\" type=\"video/mp4\" />\n",
        "             </video>'''.format(encoded.decode('ascii'))))\n",
        "  else: \n",
        "    print(\"Could not find video\")\n",
        "    \n",
        "\n",
        "def wrap_env(env):\n",
        "  env = Monitor(env, './video', force=True)\n",
        "  return env"
      ],
      "execution_count": 2,
      "outputs": []
    },
    {
      "cell_type": "markdown",
      "metadata": {
        "id": "IOzRdQAOu7n_"
      },
      "source": [
        "#### Example of playing Switch2-v0 Using Random Policy"
      ]
    },
    {
      "cell_type": "code",
      "metadata": {
        "id": "QXMuXU52pznF",
        "colab": {
          "base_uri": "https://localhost:8080/",
          "height": 455
        },
        "outputId": "fa6d0529-4a81-4653-bdcb-b406717ed8eb"
      },
      "source": [
        "env = wrap_env(gym.make(\"Switch2-v0\")) \n",
        "done_n = [False for _ in range(env.n_agents)]\n",
        "ep_reward = 0\n",
        "\n",
        "obs_n = env.reset()\n",
        "\n",
        "while not all(done_n):\n",
        "    obs_n, reward_n, done_n, info = env.step(env.action_space.sample()) # this gives a random action between 0 and 4 for each agent. \n",
        "    ep_reward += sum(reward_n)\n",
        "    env.render()\n",
        "env.close()\n",
        "\n",
        "# To improve the training efficiency, render() is not necessary during the training.\n",
        "# Render and video code provided here to demonstrate debugging and analysis.\n",
        "show_video()"
      ],
      "execution_count": 3,
      "outputs": [
        {
          "output_type": "stream",
          "text": [
            "/usr/local/lib/python3.6/dist-packages/gym/logger.py:30: UserWarning: \u001b[33mWARN: Box bound precision lowered by casting to float32\u001b[0m\n",
            "  warnings.warn(colorize('%s: %s'%('WARN', msg % args), 'yellow'))\n"
          ],
          "name": "stderr"
        },
        {
          "output_type": "display_data",
          "data": {
            "text/html": [
              "<video alt=\"test\" autoplay \n",
              "                loop controls style=\"height: 400px;\">\n",
              "                <source src=\"data:video/mp4;base64,AAAAIGZ0eXBpc29tAAACAGlzb21pc28yYXZjMW1wNDEAAAAIZnJlZQAAHOFtZGF0AAACrgYF//+q3EXpvebZSLeWLNgg2SPu73gyNjQgLSBjb3JlIDE1MiByMjg1NCBlOWE1OTAzIC0gSC4yNjQvTVBFRy00IEFWQyBjb2RlYyAtIENvcHlsZWZ0IDIwMDMtMjAxNyAtIGh0dHA6Ly93d3cudmlkZW9sYW4ub3JnL3gyNjQuaHRtbCAtIG9wdGlvbnM6IGNhYmFjPTEgcmVmPTMgZGVibG9jaz0xOjA6MCBhbmFseXNlPTB4MzoweDExMyBtZT1oZXggc3VibWU9NyBwc3k9MSBwc3lfcmQ9MS4wMDowLjAwIG1peGVkX3JlZj0xIG1lX3JhbmdlPTE2IGNocm9tYV9tZT0xIHRyZWxsaXM9MSA4eDhkY3Q9MSBjcW09MCBkZWFkem9uZT0yMSwxMSBmYXN0X3Bza2lwPTEgY2hyb21hX3FwX29mZnNldD0tMiB0aHJlYWRzPTMgbG9va2FoZWFkX3RocmVhZHM9MSBzbGljZWRfdGhyZWFkcz0wIG5yPTAgZGVjaW1hdGU9MSBpbnRlcmxhY2VkPTAgYmx1cmF5X2NvbXBhdD0wIGNvbnN0cmFpbmVkX2ludHJhPTAgYmZyYW1lcz0zIGJfcHlyYW1pZD0yIGJfYWRhcHQ9MSBiX2JpYXM9MCBkaXJlY3Q9MSB3ZWlnaHRiPTEgb3Blbl9nb3A9MCB3ZWlnaHRwPTIga2V5aW50PTI1MCBrZXlpbnRfbWluPTI1IHNjZW5lY3V0PTQwIGludHJhX3JlZnJlc2g9MCByY19sb29rYWhlYWQ9NDAgcmM9Y3JmIG1idHJlZT0xIGNyZj0yMy4wIHFjb21wPTAuNjAgcXBtaW49MCBxcG1heD02OSBxcHN0ZXA9NCBpcF9yYXRpbz0xLjQwIGFxPTE6MS4wMACAAAAEEmWIhABH2uOSVBtJnp3QIxA/kUtbeaalUtGpf0JKuPUgnuSEeO2bMf8SBr9goxv2ERnoPRC2rhTHIPEENeakJDBITho9/2uJni7nuhyRehWHU8ZzDKRswQuaKAJMt7rS2syCkVTGxie3qthQYsYDf+w6L3dOcgP6wRWuMeq9M555NR2+gLgVyjqtp+MSYH+/vLG8XEo2lsVfAikUeVAmo+YaXtbmPmT/6dGexQFsfmVsdYHWTVlF6UX7Bogi35Xt6E7EwTrplNgSBcXphmUG2kgYAS91Kzzru4/rB4Bj/6W9UH6t47JjSjVcEcXZvbkTb/EhmS0wysEp4N1jP6iQuj7ZFegYG2jB1z00sfjJtXfQr8n9FqZzp2njxJ/c1sDcbEw7SG3b5KIA5A/b9l8G3MRZFj76sn8PYfd6AvK4eyyME9YjcpIp12QbL1IcJcREQNjV+hGMH0c+dmoPTE9Yg26RA4KdYi9BSFdyl7KA9S8NF2UvboErLhU+BTaZvG0e83DfV0IT1yNfWDjnZPQz2DwPgeF4mXgZ0+/5McH/eJAXPHca0YFqcXBEXPm8e1t+Zux33nqOb5DJ06sRXRHWs4N8znE0C43rEAkd4K3IUCRrNhmELWaLTnIPyEAWBLy3naNOYgLsRgPJ/lraQT6q5TPg5rRYk77HpcPEM3rwmCyy8zdM2hhGcHvh/3/ardgV7oNOECvxrcnzuSGruNBvvFJDnA9Z6U87QsDFCdLgLqtWyW9Sl5/xybz0uetvjBz8yxYjFfRwMI1dKU5/1CV1nzXW/+sBgt3XiXdtD3QwjN/UFNi70NIsvhy72FItGnx2vj+vXdGCWJOiFs2ya80D/Tc2GG4G3CkB/+qz81tzKr2hYpTZwIvS5b94JYRNLbIYbedSdiJUGrVVRB00W33bYG96r9WBsUD/FZt3ByGFykDTDczO6dg6RgKdq1BQtPteHg/b+FZrFAdUiOmMdgdJ37WVaZzkJ449AsM3jPjKFcrV/BfQssTE/MD/SmYI8HhLqj14JzLW3uFl8+s/tC6rHWlF6ooYbT/0oaq/+XbJ/Q3//4ghbtS/CfGr8YU6cshspDA/9rmFJxgO7eKBTxt/5D0W75Qsswa92pa/suzOsGIztqd4O23NPvT5ngscl+hFLL0wkRqvNt4qbkhVwv+P1aDrKGQRlkxRIIQx61Tqny6n1UBdK2X8KAwha9VRi4bZkFtXIGbrRYq9XKwtxXWQVPNAxlCtiXR12ZFlCWwqsuCIPgIdo3Wbe8HDKiTiq7YCXKN4lMsT0nIx+EffulanMo3mvF0Tnq03+AdZDofN8yEcibWi2PBvL8MoejbYhY4uip//ksN+DnLc89LnEOpBHVOZXRpEpWPFnRKVSb3eiZf8L2EAAAELQZokbER/Cy8RsI6JLdeBbYQ3iudXd0GSaXbsaKVVhkX//NfLOFIaRQM6HgPJlgS/+6oLFKSW2FFC20a8BSvY8/MtloyQEEXxLcXYpJMR7cQIduyEabS7T/fxUQqLYFjt12ZhZdRvTgUiubEcCyfHW8AeDp+yF5qYxv/9iSCofgbqfQo3A9HHrpRIOsS5fPYi52Nx6O9/UMleV7D07MQb3I8bBda5H5B4QhA8ILuCSLQSfXYvw5NwuAVkw/FMy4iuoOcogpoQ/MMVNyDC7DCDrzvscV+XE12TXkvsoYW6Z5zgai3W/k2LNLwKy9G1OhnrY1oLu48g1Ej/H+XQIgKPFHMso8nLTGP6hhWpAAAAp0GeQniFv9xleR3XHmzQtTCbFaNj6e1YbqBQlZF4LDna7TF8X7feXhdLZ7jhAIbdoxNEeplX5qXaSsvaU+k7dBu/Qtsky7f8Buq9TRRYqM7/2LwDadkx248kjV8dR7OYB6MQkvedRaG8MwiaEaQL4F3nG/xNRQkkiJriH5oGtxeAsXmP6g8r5nl7TMH+9/cz2aT5fJtBnxSpFi7U/+dXiT/uYVsN5mqBAAAAogGeYXRDX/G8eTF7lfrzEgnaEwUIojjx7USXDzcXPWsIIEWEIfFw1Ic6bJZ3OCMigcBYv+webmeHoGExi3qFA5mPSk6L/8IFn8N8y+yyU2C05Z95l9Yk/3Vq6ui+KEL+llM7OqzEoJ0Wh2nhqg1h9uAvFrGdMRGspCArKkZuET0oCoyLG3Aq+V+//t6z5Z/9GsUzr18bKo5ejGyZUCX7trNZcAAAAJ8BnmNqQ1/acwUoXy0Bx8qMnv8X+4y/qfEUBJViZAPolajyDr6JXQnms63uMmrO7LSVGxAs8jYpVuAWpiW1jcUjMc8QRxYtdo23fLsILyr3VIu4PCgOjp+IUOY+W7dLj6icYVc887Hf5fAvCmrTSc/+cwZB22hOPYy4fKb6V2FUcQn/rW2GzdGCF5XkTQLrImF7lckUrrsFOwbqI/7g5IEAAAAoQZpoSahBaJlMCI8KY86RE/AyeZdVrTyCVaDk25cT0THh4BEJ5/FiDwAAABJBnoZFESwt/4zyfKE7C88otw8AAAANAZ6ldENfK7aBBoCo4QAAAA8BnqdqQ1+S6arBU/NZJ6AAAAECQZqsSahBbJlMCI9eroVrDmJDve+vMklzu0sxT31CmzfKQHZkr3BLcBQELgUKGUgOK8ZahTj8zi/Y7w28CIqD4Iv/+KfM069pqVvV+O+l+Zipk9okGrKZdJBf0aeK5t6p/THwKRGbFysVUB/wozRQoj3bOykH4SxeRWf6JB/XFf9/fQvRQzilqrxa++Xf36g5eU8UcCOYUK1BZiAv5ePa3+LjKxOoTJKj6vcSXCH9cMVuAyweHuKLaR1TvbxfXvK1icG7vkKcbWoySzjdXDL4LnXEhmGswa4YgB8SUOHwlKnjktR4FSgxfVbbR/ErWjYPvmWbIvptQ6U+8iRKacCP8dKAAAAAxEGeykUVLC3/1+D/Xaf/NSm7+wb6upvx8P4J/ha/MMI12Ml+/jbKrlfo3ubeVQmeGX8aPpBd3/MrRQSouJZlF/ODTTEK/8yrmxx/UwLErrIeQe887GAyu6LDyW9YqvkmzrkqPx0FuTYEEpjxneVMrFE0TOZYBw5c0M/01sjSU8EW/FtiDKWoRkUl+7Jw/rGX3cwbJPD7lBZTuB058HlTNKc6ieNEpvmyxmjS9uDfD3nnIrpLvQm1jS1CnW/lMAOca4M4LccAAAALAZ7pdENflb2R0W8AAAAOAZ7rakNf2nMFJym/VMAAAAAtQZrvSahBbJlMCI8AqEWdRnqcSjrrECv/k3fWFPsO4KTwXugeUVfcFcjE+TVJAAAAEUGfDUUVLDH/3DCh1cXDz1nBAAAADAGfLmpDX9pbTZAvUQAAAYNBmzNJqEFsmUwIjwso+6sJ2dD/1RWy/+d+RGg5/HHvYZ3Zz9YsqWHvxVWc2FYryj0bMz+DtfJGgYkrJoHM3or/WwmE/lY/YIOypbjHm194EdoWIjfvEOFkBrJeQsDsXv3T4S3ZAEuWg6GJuRPZt7ZFuS0gwzvs0L+JMml9rRfVjsCKf9zroPPhzGGYkrap5M7KIMm7ELxVZ0wheE8z4FDUwWgUtrT64QdMR/AJvcuiI3aDGgnaknF1yZV5CNdrjZ44BeGsrpytBWDhx30DUcCpLnXt4KqltthG3lrvCQn2AFi0B+Tg5a/AJ5lZRWlqkXcG9a/qvzIOI4G9fJsr6WSmkh74A2boVR0BeB/buARPJ8Oel83dHAxT3W95e6X8pqSUb5xbTs4mrQms+LiSwhNDL9j8qgjQvxHxV2lZRk7HCUxGa5u1ErGJmVOc+2ZC9wduHvhp5Mur1Wym8AbdzXPtpi+9gCH2r144/R35dOYRIlbGeGrFOhqt3NFnLevLy5bFa0AAAADMQZ9RRRUsLf+KITHx+F7LmNVDXeZ535Jf/42OdIopvSVLNuQhTD4akqvd/sbE403DjC8JCrb86e/NWbmgnL0HCB6vIlgcK4hVPmd+7JbalLmUso3/wBTcZODR+utyD766oUnGhPh5V8PO78ue5G7cR4rSIQONYf+/SA5f4k8KUAB9FB+lYD0TCpSCXyJY+yC/V6SwBwaVyWgLIJTNosDmizJM9cipPGEdsMIGClZVHS41Q4WP0Ojmb56vOFJbmKXrWn5jlL7+hqAsIKF4AAAAEAGfcHRDX5W99uyhFq2BtOEAAAAPAZ9yakNffleMiw6UmIWgAAAAvkGbd0moQWyZTAiPBqe7MeTVSnvFEyQOCvTFOGhV/6GBcOa//zD5ThSGkUDOgh7/9/TW6SDxpSbpf/00QT1O/GL5ZMwYGYwpA7ET8sguX380Zh8vtpfgOZUiU4M3BlAi8PIR7A5xHIasqV9MROfIfPOy6MKPrOH1rhkt4A8HT9kLzUxjf/7EnwEP7QGziOyIJjO89DEyo5r7RVpRs7bRTPPuQm6Y0HscUcWeFSNEfWB/poEbHGxEioaQFguceUAAAAAQQZ+VRRUsLf+Oo+sp2HOjlwAAAA8Bn7R0Q1+V1/5vuVSaY3AAAACJAZ+2akNflaWQb2mKj8ipzPndf/f7Jl/T/mS8r7s+lY5bAtj8semLoRZGploVs1vb4IfpbqYE0FVpVeuMLYeBcuZPapV9osL/9fqFBo5N9woTawgELvueTZD9IaGFNj3L1uY/FH96sBs5EB5oN/qb19+sFVWqJ7l9LXrk/FqzJISTej7rxCDd0nEAAAAiQZu7SahBbJlMCI8Gp1IOZYEysFhyXcQ+QTqCKoiERRNGOQAAAL1Bn9lFFSwt/39Jw/GDblQIBXzw3S//xsc6P0goajNbkKYeY/rxQTZ9lzD1wrAD+7bRQ32CcXk7tp9W4Nldrx0NI6GK4VmP8XRWApX0YQ181DJ7Uc1QA6bX0C/B93WZQ7SsEDkcXRgPJjf8pF48LpHRrvdJpkV6/A6ipD4Uso3+9Sq60XZCviX2Lm/r/BpG5tuvX5K7FYhlnV85QSTFGXy7tirZw6HiJjqRFabxe5B0s0yGxL092UisTfTTeZAAAAAOAZ/4dENfS2T711VsOoEAAACoAZ/6akNfiQ3w2RcH2HtVOgIC/XgB7tQXM/HFwpJD7QF7QQ0YI+uwmNM3B9hAfh0hzsz3Eb0J391y6qauv/7rbpAHlcZFGj/pj6r6fQIoZMSTftwXsSGUVjQcbDAty8a/tQX/bkXI/cBB6zUSez87TjiCUuYRBScNNgj1VlQKl0r0xtvWvonc4FbgQIMrIoUtV3MetER8V/ydnEk0qC+8bN3CpAYBSnhAAAABp0Gb/0moQWyZTAiPcBC8mz/Ht/+wrSV//RljRiPd/xPZNiTl6pypoe40y1xXP4Jv6g+KPBUNUf1VEippvA+sFK98JZg/I4sf0cP8BA/5AOKve02LWWMy57xXbO1TNW1sfOU+7QJZaDeH9a23yAflBc/dWXp9VShIQq/Yfw2/5jJSjECMLng54TWhKHc4O+1oXGfLBl///4u85dT6LAvDhz+00Shh6Q0m22VGX0h1dqFri7FlQn4z+XggNgL6wlnUBKrfvitwQx+y5PQGIYYe2K5WkQjh5x3ptVjHuade4gXzlHQASDGfS9NcpB/KDlA5hb9FR7om+XCtL/YttfbdzWpf2Let9FzJaqBX4C7pCFhYmOJh3g9tnqhCnjeU3B+Rr2PhVS65SCgfOJ7+dTcMsmxMvKiU5gAYPEHDA/Mkh+TF5syyABV7OoBmZBgbEAUoxI3PNn5rLVfC5j6TZqiEHxVbHHZphr9u0jV/m0wbxnFyJsfBus7X2VKOdT3TlpZHhb+PcC+B6Wtf6/7tKIKap5oWeM42k20vCjAejMbgFHtp14WPOv/y4QAAAK9Bnh1FFSwt/9fXWCahaXeEDqFURrAJve+7r1l9yaxSu0Y48BUJaW3q8+MxLTaIFExGp+2m+QG/8WWG2XSUw5H5edaRWf8R8SvSuBswc9u1kXuVNFiJYLk8LXm8SI0extt19w0cmkWof/43xzVoZG/KqTrp5Ra8PprCSXLzekqFScurxcPBoERETghPEEvzQZ/dfMZFMtYIwTcu0fJZDsFrxm7Zk9T560sfSCJZjJDhAAAAEQGePHRDX4knq5J/72Pd8lnAAAAAnwGePmpDX9pbWd1tZeKQEF/qqv6nxFAd+oJjHzxMPrrhEXuW3n1qZ6A2aTJKqDNU27CsKyEAtTEtrG4pGY6FhHFi12jbf+dIbBGy2mS/0w8XE1NiSKHYPgPI+3lW3BVUKRkENwBr/qB8DRz5LVcWT7WMxy7w+5EGxOEpvpXrKkME/9a2w2XPTE5tdIW6uVnGaanm6LEd2Kc9BduUsVofGAAAAL9BmiNJqEFsmUwIrwCaMkJ0eyX/2UnVTszQz+CkD3/9hef4Adnjg3o/n+/Q7i9CKTyG4D20OMna2nsybrMtXT6ddfgG8HdHAojkyyPoZZx3dBwq6qBDcsXpHd9/wdzvDRyKiORRalR9Zv8RxEZP6zj2ZJC+AyS3xbMi+n1EPL5TPBE+zi6KJxdmpIZxy45Jr4Ua0z4FwxB5lVHz1yabQmb5k1pFwlEXg7LimUSkQqp9tYJvBVR1fvwEp7wCH9Vz/QAAABVBnkFFFSwt/3N4/06n4evEmlrdqKAAAAANAZ5gdENfRef3O1Ma7wAAAKMBnmJqQ19F6vtpRlbpIgL87evu1Bcz8cXCkkPhXHWLLxgj65F5Jm4PsID8OkOdme4jehO/uuXVTV1//dbdIA8rjIo0f9MfVfT6BFDJiSb9uC9iQyisaDj7PY6XjX9qC/7ci5H7gIPWaiT3O/hKuYRBScNNgj1VlQKl0r00L7Ak8zucCtwIEGVkUKWq7mPWiI+K/5OziSaVBfeNm7hUgMAdNQ6jAAAA1EGaZ0moQWyZTAjPezMvE0I9q/5QEav/b4cbiJ3ZKymT5a56nivtpLaRm8opgv4eRguCCUqiA2EUAn8WCEsXffWX6wrqJgL9fjv6vDOD4XeCeOpeEsjuhWYDpBJ5alRQ3sjvlFFv0rfi4uz6Lj3QV+R7PTs1CmttzeodPdHA8Hs6OohXR2a6SoilH+7maMv8x5xVtBF2//39FjyqgQjVf5ByVFk1CoIkSKlltRP7Q/o7vMTBI8DeYf4HHupBF1wEwdeDCIrMsZfZH55RULWCbmrR7EeZAAAAFkGehUUVLC3/0QwE9wMyLkM/Ap4dCEkAAAASAZ6kdENf2qLTNxWvp0Pge9MhAAAAuQGepmpDX5M9/l7X///w07LCkdTuyaLeXiGgxZG+fP+/6uyuYDwC58bZ6j/ofAIaJX5lUWqbIhj4oP/UjbN3EParMCq5gDTQ/X4UzB6LYU+XZMTzYvF2wF+/AiYl19QeZP3kqlOAjZaqbPzbSlVtMwjGO4IWFwnJTqbc6GQG7Mc5aKcFc1bFDwqc8lgGIedlkVE11Ol4/yf0G7Mae0/aOlSLp70jRFsRkiMV9AADZvBGkTpLStD9FktBAAAA1UGaqUmoQWyZTBRMZwFF5maU1cqgwRKb3/U8V96UAye1g2R9RT51Y4AdNvy+eH49nsZRe4nu64612PFrk9YojWv1vt+XsFzH8ARF15blrzsRMK9QDJZhAll0hqVb+PGI3JHwX19rw50MVP3XMqs2zhq/H8GvNDB061i75lREemhkyAWcGigDnwC7JXXq6gx17TDiPQ+u+md6eVWSh+aI5EEKIHlDPsrFBKraIEydurmk1VyGY09bLG08MhFUsXljrtFLHjwDJwGS0V6RHk8kb1TpwQ+exAAAAL4BnshqQ1+TPf5e1///8NOywpHU7smi3l4hoMWRvnz/v+rsrmA8AufG2eo/6HwCGiV+ZVFqmyIY+KD/1I2zdxD2qzAquYA00P1+FMwei2FPl2TE82MJUMA5F+/AiYl19L1TP3kqlPIjZaqbPzbSlVtMwjGO4IWFwnJTqbc6GQG7Mc5aKcFc1bFDwqc8lgGIedlkVE11Ol4/yf0G7Mae0/aOlScwUKChBIDFXskYxbEAAGzeCNInWqn0XiTwBklAAAAAukGazUnhClJlMCEPAqODyLhOCM/iOtPNL6Y2i+SIEJ8tv6rcspvmggeaV/8XGg1WuzfKNV5lL4LnVWV6zgt3xB5GvjaMih6k5onmJRnv5nRlihvY2Efw0CfFtS1niK+ujeVMgsf5k9mFqq03TpXWNgEvoC5GeBI7+ayIesY7RAyWU4ErBfjPf5Pvwy1SjcQney+fIYTntjrjWpTwcuumXO0l9UzA8MYBaMH7dcj98tLthgCCoh6h3lK7gQAAAJ5BnutFNEwt/3N5WrwV6TThk3iRScsdWnkSv/8bHNeesVe0rJ/D6hy5d97U4ipXQRrpye44cljrV7uqEhULAGDy0J26Qcazau6f6vqjx3IkiqwOgJXcE54h8f69cDqdZ4RoPMFmtK+RFIGs2ml3rXUoiUzIdijmgwM/EgfP3AnOSi1c9D6WpiD11jMFMfzf/MZu7jYWFR5hvUbB8WxAcAAAABABnwp0Q19KpzMUqmngVC6wAAAADwGfDGpDX0txSpOB+zh9wQAAABhBmxFJqEFomUwIW/8GNM4KU6U7z1NJ6WEAAADGQZ8vRREsLf9zeX6d+H7JnHVSt35Jf/42Oa89Yq4n4VT6hy7hHFe6P5ePiodZgz//WNUKi4QkX1SNqz0q1q+ZfwD00KjRkbj00Ddqt/x//x6eQy2BoI79ccJrhh8Lyo6vHIdq1VYmA9YjbIy6aKWyiuaUomzb+DzVOfo/Ensk4k58El/IjwoXT5CZv1A+lW2+6Bmyf59qsZiSFYX+QmCiU877/t1yw3AyJ1LnVri9u1Qr0dIxPUeMwSBK26lV96MZHW6S2zbBAAAAIQGfTnRDX0yC9DrWFdCdligDyyWsqMVzIjwastlEG99hmAAAABYBn1BqQ19NZNZKAVvyMsPcojj8RoaAAAAAEEGbUkmoQWyZTAhr/wY/aWMAAAVvbW9vdgAAAGxtdmhkAAAAAAAAAAAAAAAAAAAD6AAABqQAAQAAAQAAAAAAAAAAAAAAAAEAAAAAAAAAAAAAAAAAAAABAAAAAAAAAAAAAAAAAABAAAAAAAAAAAAAAAAAAAAAAAAAAAAAAAAAAAAAAAAAAgAABJl0cmFrAAAAXHRraGQAAAADAAAAAAAAAAAAAAABAAAAAAAABqQAAAAAAAAAAAAAAAAAAAAAAAEAAAAAAAAAAAAAAAAAAAABAAAAAAAAAAAAAAAAAABAAAAAANIAAABaAAAAAAAkZWR0cwAAABxlbHN0AAAAAAAAAAEAAAakAAAEAAABAAAAAAQRbWRpYQAAACBtZGhkAAAAAAAAAAAAAAAAAAA8AAAAZgBVxAAAAAAALWhkbHIAAAAAAAAAAHZpZGUAAAAAAAAAAAAAAABWaWRlb0hhbmRsZXIAAAADvG1pbmYAAAAUdm1oZAAAAAEAAAAAAAAAAAAAACRkaW5mAAAAHGRyZWYAAAAAAAAAAQAAAAx1cmwgAAAAAQAAA3xzdGJsAAAAmHN0c2QAAAAAAAAAAQAAAIhhdmMxAAAAAAAAAAEAAAAAAAAAAAAAAAAAAAAAANIAWgBIAAAASAAAAAAAAAABAAAAAAAAAAAAAAAAAAAAAAAAAAAAAAAAAAAAAAAAAAAAGP//AAAAMmF2Y0MBZAAL/+EAGWdkAAus2UON4iSEAAADAAQAAAMA8DxQplgBAAZo6+PLIsAAAAAYc3R0cwAAAAAAAAABAAAAMwAAAgAAAAAUc3RzcwAAAAAAAAABAAAAAQAAAaBjdHRzAAAAAAAAADIAAAABAAAEAAAAAAEAAAoAAAAAAQAABAAAAAABAAAAAAAAAAEAAAIAAAAAAQAACgAAAAABAAAEAAAAAAEAAAAAAAAAAQAAAgAAAAABAAAKAAAAAAEAAAQAAAAAAQAAAAAAAAABAAACAAAAAAEAAAgAAAAAAgAAAgAAAAABAAAKAAAAAAEAAAQAAAAAAQAAAAAAAAABAAACAAAAAAEAAAoAAAAAAQAABAAAAAABAAAAAAAAAAEAAAIAAAAAAQAACgAAAAABAAAEAAAAAAEAAAAAAAAAAQAAAgAAAAABAAAKAAAAAAEAAAQAAAAAAQAAAAAAAAABAAACAAAAAAEAAAoAAAAAAQAABAAAAAABAAAAAAAAAAEAAAIAAAAAAQAACgAAAAABAAAEAAAAAAEAAAAAAAAAAQAAAgAAAAABAAAGAAAAAAEAAAIAAAAAAQAACgAAAAABAAAEAAAAAAEAAAAAAAAAAQAAAgAAAAABAAAKAAAAAAEAAAQAAAAAAQAAAAAAAAABAAACAAAAAAEAAAQAAAAAHHN0c2MAAAAAAAAAAQAAAAEAAAAzAAAAAQAAAOBzdHN6AAAAAAAAAAAAAAAzAAAGyAAAAQ8AAACrAAAApgAAAKMAAAAsAAAAFgAAABEAAAATAAABBgAAAMgAAAAPAAAAEgAAADEAAAAVAAAAEAAAAYcAAADQAAAAFAAAABMAAADCAAAAFAAAABMAAACNAAAAJgAAAMEAAAASAAAArAAAAasAAACzAAAAFQAAAKMAAADDAAAAGQAAABEAAACnAAAA2AAAABoAAAAWAAAAvQAAANkAAADCAAAAvgAAAKIAAAAUAAAAEwAAABwAAADKAAAAJQAAABoAAAAUAAAAFHN0Y28AAAAAAAAAAQAAADAAAABidWR0YQAAAFptZXRhAAAAAAAAACFoZGxyAAAAAAAAAABtZGlyYXBwbAAAAAAAAAAAAAAAAC1pbHN0AAAAJal0b28AAAAdZGF0YQAAAAEAAAAATGF2ZjU3LjgzLjEwMA==\" type=\"video/mp4\" />\n",
              "             </video>"
            ],
            "text/plain": [
              "<IPython.core.display.HTML object>"
            ]
          },
          "metadata": {
            "tags": []
          }
        }
      ]
    },
    {
      "cell_type": "markdown",
      "metadata": {
        "id": "64dJu3WwuBwu"
      },
      "source": [
        "#### Code for Playing Switch2-v0 with a DQN\n"
      ]
    },
    {
      "cell_type": "code",
      "metadata": {
        "id": "Iin9WBe4uLY2"
      },
      "source": [
        "import torch\n",
        "from torch import nn\n",
        "\n",
        "import torch.nn.functional as func\n",
        "import random\n",
        "import torch.optim as optim\n",
        "\n",
        "import numpy as np\n",
        "\n",
        "from collections import deque\n",
        "\n",
        "\n",
        "# NN definition\n",
        "class DQN(nn.Module):\n",
        "\n",
        "    def __init__(self, seed):\n",
        "        super().__init__()\n",
        "\n",
        "        self.seed = torch.manual_seed(seed)\n",
        "        fc1_output_nodes=64\n",
        "        fc2_output_nodes=64\n",
        "\n",
        "        #Three fully connected layers\n",
        "        # input: 9. 1 x current state, 3 x history states and current step \n",
        "        # output: 5 - number of actions\n",
        "\n",
        "        self.fc1 = nn.Linear(9, fc1_output_nodes) \n",
        "        self.fc2 = nn.Linear(fc1_output_nodes, fc2_output_nodes)\n",
        "        self.out = nn.Linear(fc2_output_nodes, 5)\n",
        "        \n",
        "\n",
        "    def forward(self, x):\n",
        "        x = func.relu(self.fc1(x))\n",
        "        x = func.relu(self.fc2(x))\n",
        "        x= self.out(x)\n",
        "        return x\n",
        "\n",
        "\n",
        "class SwitchAgent:\n",
        "\n",
        "    def __init__(self,batch,buffer,eps,eps_rate,M,C,gamma,max_iterations,seed):\n",
        "\n",
        "        # DQNs\n",
        "        self.DQN_local = DQN(seed)   \n",
        "        self.DQN_target = DQN(seed)  \n",
        "        self.seed = random.seed(seed)\n",
        "\n",
        "        # Optimizer (concerns backpropagation)\n",
        "        self.optimizer = optim.Adam(self.DQN_local.parameters(),lr=0.0005)\n",
        "\n",
        "        #Experiences replay\n",
        "        self.batch=batch\n",
        "        self.experiences=deque(maxlen=buffer)\n",
        "\n",
        "        # Parameter set up\n",
        "        self.eps=eps\n",
        "        self.eps_rate=eps_rate\n",
        "        self.iteration=0\n",
        "        self.iteration_count_M=self.iteration\n",
        "        self.M_frequency=M\n",
        "        self.iteration_count_C=self.iteration\n",
        "        self.C_frequency=C\n",
        "        self.gamma=gamma\n",
        "        self.max_iterations=max_iterations\n",
        "\n",
        "\n",
        "\n",
        "    def act(self, observation, exploration):\n",
        "\n",
        "       \n",
        "        observation=torch.from_numpy(np.array(observation)).float()\n",
        "\n",
        "        # Forward pass NN, get Q values \n",
        "        Q=self.DQN_local(observation).detach().numpy()  \n",
        "\n",
        "        # If training - select according to eps greedy  \n",
        "        if (random.random() < self.eps) and (exploration): \n",
        "            action=random.choice(np.arange(5)) \n",
        "\n",
        "        else:\n",
        "            pi = (Q == np.max(Q)).astype(np.double)\n",
        "            pi /= np.sum(pi)\n",
        "            action=np.random.choice((pi).size, size=1, p=pi)[0] \n",
        "      \n",
        "        self.iteration=self.iteration+1;\n",
        "        return (action)\n",
        "        \n",
        "    def update(self, observation, action, reward, observation_next, done):\n",
        "    \n",
        "    # See reference [2] Algorithm 1 for DQN algorithm \n",
        "\n",
        "    # rollout function has stepped, now update occurs:\n",
        "\n",
        "      # 1. Append new experience\n",
        "      self.experiences.append((observation, action, reward, observation_next, done))\n",
        "      \n",
        "      # 2. Qlearn every M steps \n",
        "      self.iteration_count_M=(self.iteration_count_M+1) % self.M_frequency\n",
        "\n",
        "      if ((self.iteration_count_M ==0) and (len(self.experiences) > self.batch)):\n",
        "\n",
        "          # 3. Take Random sample for Replay\n",
        "          sampled_experiences=np.array(random.sample(self.experiences, k=self.batch))\n",
        "\n",
        "          observation      =torch.from_numpy(np.vstack(sampled_experiences[:,0])).float()\n",
        "          action           =torch.from_numpy(np.vstack(sampled_experiences[:,1])).long()\n",
        "          reward           =torch.from_numpy(np.vstack(sampled_experiences[:,2])).float()\n",
        "          observation_next =torch.from_numpy(np.vstack(sampled_experiences[:,3])).float()\n",
        "          done             =torch.from_numpy(np.vstack(sampled_experiences[:,4])).int()\n",
        "          \n",
        "          # 4. Learn \n",
        "\n",
        "          # Forward pass NN, get Q values \n",
        "          Q_target_next=self.DQN_target((observation_next)).detach().max(1)[0].unsqueeze(1)\n",
        "\n",
        "          # 5. Loss\n",
        "\n",
        "          # This updates when done \n",
        "          Q_target=reward + (self.gamma * Q_target_next * (1 - done))\n",
        "          Q_expected=self.DQN_local(observation).gather(1,action)\n",
        "          loss = func.mse_loss(Q_expected, Q_target)\n",
        "          self.optimizer.zero_grad()\n",
        "          loss.backward()\n",
        "          self.optimizer.step()\n",
        "\n",
        "          # 6. According to C, update target Q with a combination of local (majority i.e. C) and target (minimal i.e 1-C)\n",
        "          C = 1e-3\n",
        "          for target_param, local_param in zip(self.DQN_target.parameters(), self.DQN_local.parameters()):\n",
        "            target_param.data.copy_(C*local_param.data + (1.0-C)*target_param.data)\n",
        "\n",
        "\n",
        "# Rollout function for the switch game\n",
        "def rolloutSwitch(env, agents, exploration=True, max_iter=5000, log_episode_interval=100):\n",
        "  history_reward = []\n",
        "  state_n = env.reset()\n",
        "  num_agents=len(agents)\n",
        "\n",
        "  # initial state is at rest\n",
        "  # setting up previous state placeholders\n",
        "  prevstate_n = state_n \n",
        "  prevstate2_n = state_n\n",
        "  prevstate3_n = state_n \n",
        "\n",
        "  episode_reward = 0\n",
        "  total_reward=np.zeros(num_agents)\n",
        "  episode_count = 0\n",
        "  done_episode_count =0\n",
        "  recorded_episodes = []\n",
        "  recorded_episode_reward = []\n",
        "  step=0\n",
        "\n",
        "  for i in range(max_iter):\n",
        "\n",
        "      actions = np.array([agent.act(state+prevstate+prevstate2+prevstate3+[(step/50)], exploration) for state, prevstate, prevstate2, prevstate3, agent in zip(state_n, prevstate_n, prevstate2_n, prevstate3_n, agents)])\n",
        "\n",
        "      #Take a step\n",
        "      next_state_n, reward_n, done_n, info = env.step(actions)\n",
        "      episode_reward += np.sum(reward_n)\n",
        "      \n",
        "      for j, (state, prevstate, prevstate2, prevstate3, reward, next_state, done, agent) in enumerate(zip(state_n, prevstate_n, prevstate2_n, prevstate3_n, reward_n, next_state_n, done_n, agents)):\n",
        "          total_reward[j]=total_reward[j]+reward\n",
        "          reward=sum(reward_n)\n",
        "\n",
        "          # Update only if exploring (i.e. learning)  \n",
        "          if exploration == True:\n",
        "            agent.update(state + prevstate + prevstate2 + prevstate3 + [(step/50)], actions[j], reward, next_state + state + prevstate + prevstate2 + [((step+1)/50)], done)\n",
        "\n",
        "\n",
        "      prevstate3_n = prevstate2_n\n",
        "      prevstate2_n = prevstate_n\n",
        "      prevstate_n = state_n\n",
        "      state_n = next_state_n\n",
        "\n",
        "      if np.all(done_n):\n",
        "        if not exploration:\n",
        "          print(\"Episode: \"+str(done_episode_count))\n",
        "\n",
        "          if len(agents)==2:\n",
        "            print(\"The Target Coordinates are: [[0.0, 1.0], [0.0, 0.0]]\")\n",
        "\n",
        "          if len(agents)==4:\n",
        "            print(\"The Target Coordinates are: [[0.0, 1.0], [0.0, 0.0], [1.0, 1.0], [1.0, 0.0]]\")\n",
        "          print(\"The final coordinates after test are: \"+str(state_n))\n",
        "          print(\"The final reward for each agent is: \"+str(total_reward))\n",
        "          done_episode_count=done_episode_count+1\n",
        "          env.render()\n",
        "        \n",
        "        #Reset Step at Done\n",
        "        step=0\n",
        "\n",
        "        #Anneal eps at every episode\n",
        "        switch_agent.eps=max(switch_agent.eps*switch_agent.eps_rate,0.01)  \n",
        "\n",
        "        state_n = env.reset()\n",
        "        prevstate_n = state_n \n",
        "        prevstate2_n = state_n\n",
        "        prevstate3_n = state_n\n",
        "\n",
        "        history_reward.append(episode_reward)\n",
        "\n",
        "        if not exploration:\n",
        "          env.close()\n",
        "\n",
        "        total_reward=np.zeros((num_agents))\n",
        "    \n",
        "        episode_reward = 0\n",
        "        episode_count += 1\n",
        "        if (episode_count + 1) %  log_episode_interval == 0:\n",
        "          recorded_episodes.append(i)\n",
        "          episodes_total_reward = np.sum(history_reward)\n",
        "          episodes_mean_reward = np.mean(history_reward)\n",
        "          recorded_episode_reward.append(episodes_mean_reward)\n",
        "          history_reward = []\n",
        "          \n",
        "      step=step+1;\n",
        "  \n",
        "  if not exploration:\n",
        "    show_video()\n",
        "\n",
        "  return recorded_episodes, recorded_episode_reward\n"
      ],
      "execution_count": 6,
      "outputs": []
    },
    {
      "cell_type": "markdown",
      "metadata": {
        "id": "G6d-Aj0IbW3x"
      },
      "source": [
        ""
      ]
    },
    {
      "cell_type": "markdown",
      "metadata": {
        "id": "LTZoC30suOe7"
      },
      "source": [
        "#### Train"
      ]
    },
    {
      "cell_type": "code",
      "metadata": {
        "id": "wgkfaU2RuRaN",
        "colab": {
          "base_uri": "https://localhost:8080/"
        },
        "outputId": "5808e680-ef35-4404-e594-428e0d197a10"
      },
      "source": [
        "\n",
        "\n",
        "env = wrap_env(gym.make(\"Switch2-v0\"))\n",
        "agent_num = env.n_agents\n",
        "action_num = len(env.action_space)\n",
        "switch_agents = []\n",
        "done_n = [False for _ in range(env.n_agents)]\n",
        "ep_reward = 0\n",
        "obs_n = env.reset()\n",
        "\n",
        "max_iterations=300000 \n",
        "\n",
        "for i in range(agent_num):\n",
        "    switch_agent = SwitchAgent(batch=4,buffer=100,eps=1,eps_rate=0.995,M=4,C=100,gamma=0.99,max_iterations=max_iterations, seed=8)\n",
        "    switch_agents.append(switch_agent)\n",
        "    \n",
        "    \n",
        "# Training\n",
        "train_recorded_episodes, train_recorded_episode_reward = rolloutSwitch(env=env, \n",
        "                                                                 agents=switch_agents, \n",
        "                                                                 exploration=True, \n",
        "                                                                 max_iter=max_iterations,\n",
        "                                                                 log_episode_interval=1) \n",
        "\n",
        "\n",
        "\n",
        "\n"
      ],
      "execution_count": 7,
      "outputs": [
        {
          "output_type": "stream",
          "text": [
            "/usr/local/lib/python3.6/dist-packages/gym/logger.py:30: UserWarning: \u001b[33mWARN: Box bound precision lowered by casting to float32\u001b[0m\n",
            "  warnings.warn(colorize('%s: %s'%('WARN', msg % args), 'yellow'))\n"
          ],
          "name": "stderr"
        }
      ]
    },
    {
      "cell_type": "markdown",
      "metadata": {
        "id": "a4m7s9iSlYC1"
      },
      "source": [
        "Plot Learning Curve"
      ]
    },
    {
      "cell_type": "code",
      "metadata": {
        "id": "8aUSiCN8EFax",
        "colab": {
          "base_uri": "https://localhost:8080/",
          "height": 369
        },
        "outputId": "bca4cb61-3595-4852-c3e3-b62b6a6d2dce"
      },
      "source": [
        "# Plot the Learning Curve \n",
        "\n",
        "\n",
        "fig = plt.figure(figsize=(6, 5))\n",
        "ax = fig.add_subplot(111)\n",
        "\n",
        "summerised_train_recorded_episode_reward = train_recorded_episode_reward\n",
        "ax.plot(np.divide(train_recorded_episodes,50), train_recorded_episode_reward)\n",
        "\n",
        "ax.set_title(\"Learning Curve\")\n",
        "ax.set_ylabel(\"Total Episodic Reward\")\n",
        "ax.set_xlabel(\"Episodes\")\n",
        "plt.tight_layout()\n",
        "plt.show()\n"
      ],
      "execution_count": 8,
      "outputs": [
        {
          "output_type": "display_data",
          "data": {
            "image/png": "[encoded data removed]",
            "text/plain": [
              "<Figure size 432x360 with 1 Axes>"
            ]
          },
          "metadata": {
            "tags": [],
            "needs_background": "light"
          }
        }
      ]
    },
    {
      "cell_type": "code",
      "metadata": {
        "id": "MGWk5c2ibaCF",
        "colab": {
          "base_uri": "https://localhost:8080/",
          "height": 591
        },
        "outputId": "325c5abf-a075-4800-dfa3-5076178efec9"
      },
      "source": [
        "#Testing (therefore no exploration)\n",
        "\n",
        "env = wrap_env(gym.make(\"Switch2-v0\"))\n",
        "test_recorded_episodes, test_recorded_episode_reward = rolloutSwitch(env=env, \n",
        "                                                                 agents=switch_agents, \n",
        "                                                                 exploration=False, \n",
        "                                                                 max_iter=55,\n",
        "                                                                 log_episode_interval=1) \n"
      ],
      "execution_count": 10,
      "outputs": [
        {
          "output_type": "stream",
          "text": [
            "/usr/local/lib/python3.6/dist-packages/gym/logger.py:30: UserWarning: \u001b[33mWARN: Box bound precision lowered by casting to float32\u001b[0m\n",
            "  warnings.warn(colorize('%s: %s'%('WARN', msg % args), 'yellow'))\n"
          ],
          "name": "stderr"
        },
        {
          "output_type": "stream",
          "text": [
            "Episode: 0\n",
            "The Target Coordinates are: [[0.0, 1.0], [0.0, 0.0]]\n",
            "The final coordinates after test are: [[0.0, 1.0], [0.0, 0.0]]\n",
            "The final reward for each agent is: [3. 3.]\n",
            "Episode: 1\n",
            "The Target Coordinates are: [[0.0, 1.0], [0.0, 0.0]]\n",
            "The final coordinates after test are: [[0.0, 1.0], [0.0, 0.0]]\n",
            "The final reward for each agent is: [3.1 3.1]\n"
          ],
          "name": "stdout"
        },
        {
          "output_type": "display_data",
          "data": {
            "text/html": [
              "<video alt=\"test\" autoplay \n",
              "                loop controls style=\"height: 400px;\">\n",
              "                <source src=\"data:video/mp4;base64,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\" type=\"video/mp4\" />\n",
              "             </video>"
            ],
            "text/plain": [
              "<IPython.core.display.HTML object>"
            ]
          },
          "metadata": {
            "tags": []
          }
        }
      ]
    },
    {
      "cell_type": "markdown",
      "metadata": {
        "id": "SBPP9JtCuVEF"
      },
      "source": [
        "#### Analysis on performance"
      ]
    },
    {
      "cell_type": "markdown",
      "metadata": {
        "id": "0AN92fSru0F0"
      },
      "source": [
        "**Implementation**\n",
        "\n",
        "In this game ‘Switch’, the agents interact with the switch environment through  actions, observations (or states) and rewards. The aim is for each agent to learn an action value function Q(s,a). However, in problems where there are a great number of actions and states, it is not feasible from a perspective of computation and memory to generate the Q [s,a] table using basic Q-learning. Therefore, a Deep Q-learning Neural-network (DQN) is implemented to estimate Q(s,a), as based on the original DQN demonstrated by Google DeepMind [2].\n",
        "\n",
        "The neural network architecture is implemented in the initialisation of class ‘DQN’ and consists of an input layer of size 8, two hidden layers each of 64 and an output layer of 5 corresponding to each of the possible actions. The input layer consists of the current state, current step number and 3 previous states as discussed in [2] such that learning can be carried out. This NN is a simplification of that from reference [2] given that the input is quantified as solely as state coordinates and step, as opposed to in the form of images where convolution is required. \n",
        "\n",
        "The ‘act’ function in class ‘SwitchAgent’ selects an action when in learning mode based on an ‘epsilon-greedy’ exploration technique. An initial value of 1 is selected to promote initial exploration, this is then annealed at every episode to a minimum of 0.1 for exploitation.  \n",
        "\n",
        "In reinforcement learning using neural networks there is the potential for instability due to correlations between observations, small updates to Q significantly changing policy and correlations between action and target values of Q. Reference [2] proposes two methods to mitigate this instability, both of which are implemented in the ‘update’ function of class ‘SwitchAgent’. Firstly, a method called ‘Experience Replay’ samples a batch randomly from a buffer of experiences (consisting of state, action, reward and next state) which are then used for learning every M steps. This has the effect of reducing correlations between observations. Secondly, the target Q values are updated partially (as governed by C in this code) at each learning step to reduce correlations between action and target values. \n",
        "\n",
        "**Assessment**\n",
        "\n",
        "The learning curve demonstrates an improvement in total episodic reward at increasing number of episodes. Note that a total reward above -5 indicates one agent reached the goal, as is consistently obtained at approximately 1000 episodes and that a total reward of 0 indicates that both agents reached the final goal, as occurs more frequency with increasing episodes. The test result rewards, coordinates and video demonstrate a succesful test. \n",
        "\n",
        "Note that although succesful, the test (and therefore implementation) has not provided the best result. In an optimal scenario agent 1 can reach its goal in 7 steps (reward of 5 - 0.1 x 7 = 4.3) and agent 2 in 12 steps (reward of 5 - 0.1 x 12 = 3.8) after waiting for the 1st agent to proceed through the corridor. \n",
        "\n",
        "Note that hyperparameters in this implementation are selected based on those presented by [2], with simplifications considering the smaller input into the neural network, for example the batch size reduced from 32 to 4. Informal adjustments were then performed, due to the high computational cost of a hyperparameter search. However, improved results may be achieved with a systematic search. Similarly, results may improve with futher training.\n",
        "\n",
        "\n",
        "[2] Mnih, V., Kavukcuoglu, K., Silver, D., Rusu, A.A., Veness, J., Bellemare, M.G., Graves, A., Riedmiller, M., Fidjeland, A.K., Ostrovski, G. and Petersen, S., 2015. Human-level control through deep reinforcement learning. Nature, 518(7540), pp.529-533.\n",
        "\n"
      ]
    },
    {
      "cell_type": "markdown",
      "metadata": {
        "id": "JWZIkzfEuhEE"
      },
      "source": [
        "#### Playing Switch4-v0 with a DQN"
      ]
    },
    {
      "cell_type": "code",
      "metadata": {
        "id": "vS5uQ0NLun9B",
        "colab": {
          "base_uri": "https://localhost:8080/",
          "height": 51
        },
        "outputId": "3edb9df6-229d-4eb5-d4af-33c0db1d899f"
      },
      "source": [
        "env = wrap_env(gym.make(\"Switch4-v0\"))\n",
        "agent_num = env.n_agents\n",
        "action_num = len(env.action_space)\n",
        "switch_agents = []\n",
        "done_n = [False for _ in range(env.n_agents)]\n",
        "ep_reward = 0\n",
        "obs_n = env.reset()\n",
        "\n",
        "max_iterations=300000 \n",
        "\n",
        "for i in range(agent_num):\n",
        "    switch_agent = SwitchAgent(batch=4,buffer=100,eps=1,eps_rate=0.9992,M=4,C=100,gamma=0.99,max_iterations=max_iterations, seed=8)\n",
        "    switch_agents.append(switch_agent)\n",
        "    \n",
        "    \n",
        "# Training\n",
        "train_recorded_episodes, train_recorded_episode_reward = rolloutSwitch(env=env, \n",
        "                                                                 agents=switch_agents, \n",
        "                                                                 exploration=True, \n",
        "                                                                 max_iter=max_iterations,\n",
        "                                                                 log_episode_interval=1) \n",
        "\n"
      ],
      "execution_count": null,
      "outputs": [
        {
          "output_type": "stream",
          "text": [
            "/usr/local/lib/python3.6/dist-packages/gym/logger.py:30: UserWarning: \u001b[33mWARN: Box bound precision lowered by casting to float32\u001b[0m\n",
            "  warnings.warn(colorize('%s: %s'%('WARN', msg % args), 'yellow'))\n"
          ],
          "name": "stderr"
        }
      ]
    },
    {
      "cell_type": "markdown",
      "metadata": {
        "id": "0nMHoGAbuoVb"
      },
      "source": [
        "#### Plot the Learning Curve"
      ]
    },
    {
      "cell_type": "code",
      "metadata": {
        "id": "SRr9fTCPeb9M",
        "colab": {
          "base_uri": "https://localhost:8080/",
          "height": 369
        },
        "outputId": "a39bc5e4-0972-4bcd-c861-a3f22e405726"
      },
      "source": [
        "# Plotting\n",
        "\n",
        "fig = plt.figure(figsize=(6, 5))\n",
        "ax = fig.add_subplot(111)\n",
        "\n",
        "ax.plot(np.divide(train_recorded_episodes,50), train_recorded_episode_reward)\n",
        "\n",
        "ax.set_title(\"Learning Curve\")\n",
        "ax.set_ylabel(\"Total Episodic Reward\")\n",
        "ax.set_xlabel(\"Episodes\")\n",
        "plt.tight_layout()\n",
        "plt.show()\n",
        "\n"
      ],
      "execution_count": null,
      "outputs": [
        {
          "output_type": "display_data",
          "data": {
            "image/png": "[encoded data removed]",
            "text/plain": [
              "<Figure size 432x360 with 1 Axes>"
            ]
          },
          "metadata": {
            "tags": []
          }
        }
      ]
    },
    {
      "cell_type": "code",
      "metadata": {
        "id": "d9Sr8mHKurcE",
        "colab": {
          "base_uri": "https://localhost:8080/",
          "height": 523
        },
        "outputId": "0fef23d1-74a0-4d1e-c2c8-34baf0ccf448"
      },
      "source": [
        "env = wrap_env(gym.make(\"Switch4-v0\"))\n",
        "\n",
        "#Testing\n",
        "test_recorded_episodes, test_recorded_episode_reward = rolloutSwitch(env=env, \n",
        "                                                                 agents=switch_agents, \n",
        "                                                                 exploration=False, \n",
        "                                                                 max_iter=55,\n",
        "                                                                 log_episode_interval=1) \n",
        "\n"
      ],
      "execution_count": null,
      "outputs": [
        {
          "output_type": "stream",
          "text": [
            "/usr/local/lib/python3.6/dist-packages/gym/logger.py:30: UserWarning: \u001b[33mWARN: Box bound precision lowered by casting to float32\u001b[0m\n",
            "  warnings.warn(colorize('%s: %s'%('WARN', msg % args), 'yellow'))\n"
          ],
          "name": "stderr"
        },
        {
          "output_type": "stream",
          "text": [
            "Episode: 0\n",
            "The Target Coordinates are: [[0.0, 1.0], [0.0, 0.0], [1.0, 1.0], [1.0, 0.0]]\n",
            "The final coordinates after test are: [[0.0, 1.0], [0.0, 0.0], [1.0, 1.0], [1.0, 0.0]]\n",
            "The final reward for each agent is: [2. 2. 2. 2.]\n"
          ],
          "name": "stdout"
        },
        {
          "output_type": "display_data",
          "data": {
            "text/html": [
              "<video alt=\"test\" autoplay \n",
              "                loop controls style=\"height: 400px;\">\n",
              "                <source src=\"data:video/mp4;base64,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\" type=\"video/mp4\" />\n",
              "             </video>"
            ],
            "text/plain": [
              "<IPython.core.display.HTML object>"
            ]
          },
          "metadata": {
            "tags": []
          }
        }
      ]
    },
    {
      "cell_type": "markdown",
      "metadata": {
        "id": "yubHxlmQusDs"
      },
      "source": [
        "#### Analysis on Performance"
      ]
    },
    {
      "cell_type": "markdown",
      "metadata": {
        "id": "5mOqd9j4uweF"
      },
      "source": [
        "Given the added complexity with more agents, the epsilon annealing rate is increased in order to allow for increased exploration. A rate of 0.995 is applied in the 2 player case, when this was increased to 0.999 the test case showed agent 2 and 4 succesfully reaching the correct location but agents 1 and 3 pausing in the corridor. The rate was further increased to 0.9992, which provided a succesful result in test. \n",
        "\n",
        "As in the two player case, the agents although succesful, are not achieving the maximum reward possible. This can be seen in the video above by the hestitation of 1 and 3. Particularly when 4 and 2 are in place, 1 does not follow 3 immediately down the corridor. Similarly to above, this may be improved with a hyperparameter search and futher training."
      ]
    }
  ]
}